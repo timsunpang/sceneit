{
 "cells": [
  {
   "cell_type": "code",
   "execution_count": 1,
   "id": "cdde5848-1aab-41e0-9b00-6a2f937058ab",
   "metadata": {},
   "outputs": [],
   "source": [
    "import pandas as pd"
   ]
  },
  {
   "cell_type": "code",
   "execution_count": 2,
   "id": "a0efc0e5-e9c7-40ef-9f3b-22bb91d205c1",
   "metadata": {},
   "outputs": [],
   "source": [
    "# read movielens\n",
    "ratings = pd.read_csv('raw_data/ratings.csv')\n",
    "links = pd.read_csv('raw_data/links.csv')\n",
    "\n",
    "# get list of movies that have ratings\n",
    "movie_ids = ratings['movieId'].unique()\n",
    "\n",
    "# get list of imdb ids from movie ids\n",
    "valid_movie_ids = links['movieId'].isin(movie_ids)\n",
    "imdb_ids = links[valid_movie_ids]['imdbId'].tolist()\n",
    "\n",
    "# add leading 0s to 6 digit ids\n",
    "imdb_ids = [str(num).zfill(7) for num in imdb_ids]"
   ]
  },
  {
   "cell_type": "code",
   "execution_count": 3,
   "id": "c04e30c4-ed57-4934-a9d0-c5a62394b4de",
   "metadata": {},
   "outputs": [],
   "source": [
    "# read imdb5000 metadata\n",
    "metadata_raw = pd.read_csv('raw_data/movie_metadata.csv')\n",
    "\n",
    "# get metadata of movies that have ratings\n",
    "metadata = metadata_raw[metadata_raw['movie_imdb_link'].str[28:35].isin(imdb_ids)]"
   ]
  },
  {
   "cell_type": "code",
   "execution_count": 7,
   "id": "8d0b0fd9-51fa-40a0-86b7-f6f495b511e1",
   "metadata": {},
   "outputs": [],
   "source": [
    "# read posters\n",
    "posters = pd.read_csv('raw_data/movie_posters.csv', encoding='latin1')\n",
    "\n",
    "# get posters that have movies with user ratings\n",
    "posters['imdbId'] = posters['imdbId'].astype(str).str.zfill(7)\n",
    "posters = posters[posters['imdbId'].isin(imdb_ids)]"
   ]
  },
  {
   "cell_type": "code",
   "execution_count": 22,
   "id": "1a666dfc-47fe-43b0-aae2-c03a9fd2e233",
   "metadata": {},
   "outputs": [],
   "source": [
    "# read plots\n",
    "plots = pd.read_csv('raw_data/movie_plots.csv')\n",
    "\n",
    "# get movie titles\n",
    "titles = [title[:-1] for title in metadata['movie_title'].values]\n",
    "\n",
    "# get plots only from valid movie titles\n",
    "plots = plots[plots['Title'].isin(titles)]"
   ]
  },
  {
   "cell_type": "code",
   "execution_count": 23,
   "id": "87e301e1-0f20-4c44-8f29-13644ad93d99",
   "metadata": {},
   "outputs": [],
   "source": [
    "# export as csv\n",
    "metadata.to_csv('clean_data/metadata.csv', index=False)\n",
    "posters.to_csv('clean_data/posters.csv', index=False)\n",
    "plots.to_csv('clean_data/plots.csv', index=False)"
   ]
  }
 ],
 "metadata": {
  "kernelspec": {
   "display_name": "Python 3 (ipykernel)",
   "language": "python",
   "name": "python3"
  },
  "language_info": {
   "codemirror_mode": {
    "name": "ipython",
    "version": 3
   },
   "file_extension": ".py",
   "mimetype": "text/x-python",
   "name": "python",
   "nbconvert_exporter": "python",
   "pygments_lexer": "ipython3",
   "version": "3.11.5"
  }
 },
 "nbformat": 4,
 "nbformat_minor": 5
}
